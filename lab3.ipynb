{
 "cells": [
  {
   "cell_type": "markdown",
   "metadata": {},
   "source": [
    "# Lab 3 Tabular data processing with Pandas"
   ]
  },
  {
   "cell_type": "markdown",
   "metadata": {},
   "source": [
    "In this lab exercise we will look at how to work with data stored in a tabular form and perform exploratory data analysis on it. We will be using the Python Data Analysis Library (aka Pandas) to do this."
   ]
  },
  {
   "cell_type": "markdown",
   "metadata": {},
   "source": [
    "## Introducting Pandas"
   ]
  },
  {
   "cell_type": "markdown",
   "metadata": {},
   "source": [
    "The two main data structures that Pandas supports are Series and DataFrames. Series are one-dimensional data structures that are a collection of any numpy data type. DataFrames on the other hand are two dimensional data structures which resemble a database table or say an Excel spreadsheet. In this lab we will primarily be using DataFrames and will look at operations that we can perform using them.\n",
    "\n",
    "Before you start, download <a href=\"https://raw.github.com/biddata/datascience/master/F15/lab3/data/wc_day6_1_sample.tar.bz2\">this file</a> of world cup data into the same directory as this notebook (e.g. /home/datascience/lab3) and untar it.\n",
    "\n",
    "\n",
    "Also Download this restaurant dataset from <a href=\"https://raw.github.com/biddata/datascience/master/F15/lab3/data/restaurants.csv\">here</a>. Put the data file, \"restaurants.csv\", in the same directory as this notebook."
   ]
  },
  {
   "cell_type": "code",
   "execution_count": 1,
   "metadata": {},
   "outputs": [],
   "source": [
    "from pylab import *\n",
    "%matplotlib inline\n",
    "import pandas as pd\n",
    "df = pd.DataFrame( { 'a' : [1, 2, 3, 4], 'b': [ 'w', 'x', 'y', 'z'] })"
   ]
  },
  {
   "cell_type": "markdown",
   "metadata": {},
   "source": [
    "If you need clarifications about the Pandas API you can type the function name followed by ? to get inline help. For example to get help with the above call run:"
   ]
  },
  {
   "cell_type": "code",
   "execution_count": 2,
   "metadata": {},
   "outputs": [],
   "source": [
    "pd.DataFrame?"
   ]
  },
  {
   "cell_type": "markdown",
   "metadata": {},
   "source": [
    "If you want to see the same in a browser lookup the function in the <a href=\"http://pandas.pydata.org/pandas-docs/stable/api.html\">API documentation</a>"
   ]
  },
  {
   "cell_type": "markdown",
   "metadata": {},
   "source": [
    "## DataFrame Basics"
   ]
  },
  {
   "cell_type": "markdown",
   "metadata": {},
   "source": [
    "The simplest way to see what is in a DataFrame is to just print it to the console. For example to see the DataFrame we created before you can just type df and see something like"
   ]
  },
  {
   "cell_type": "code",
   "execution_count": 3,
   "metadata": {},
   "outputs": [
    {
     "data": {
      "text/html": [
       "<div>\n",
       "<style scoped>\n",
       "    .dataframe tbody tr th:only-of-type {\n",
       "        vertical-align: middle;\n",
       "    }\n",
       "\n",
       "    .dataframe tbody tr th {\n",
       "        vertical-align: top;\n",
       "    }\n",
       "\n",
       "    .dataframe thead th {\n",
       "        text-align: right;\n",
       "    }\n",
       "</style>\n",
       "<table border=\"1\" class=\"dataframe\">\n",
       "  <thead>\n",
       "    <tr style=\"text-align: right;\">\n",
       "      <th></th>\n",
       "      <th>a</th>\n",
       "      <th>b</th>\n",
       "    </tr>\n",
       "  </thead>\n",
       "  <tbody>\n",
       "    <tr>\n",
       "      <th>0</th>\n",
       "      <td>1</td>\n",
       "      <td>w</td>\n",
       "    </tr>\n",
       "    <tr>\n",
       "      <th>1</th>\n",
       "      <td>2</td>\n",
       "      <td>x</td>\n",
       "    </tr>\n",
       "    <tr>\n",
       "      <th>2</th>\n",
       "      <td>3</td>\n",
       "      <td>y</td>\n",
       "    </tr>\n",
       "    <tr>\n",
       "      <th>3</th>\n",
       "      <td>4</td>\n",
       "      <td>z</td>\n",
       "    </tr>\n",
       "  </tbody>\n",
       "</table>\n",
       "</div>"
      ],
      "text/plain": [
       "   a  b\n",
       "0  1  w\n",
       "1  2  x\n",
       "2  3  y\n",
       "3  4  z"
      ]
     },
     "execution_count": 3,
     "metadata": {},
     "output_type": "execute_result"
    }
   ],
   "source": [
    "df"
   ]
  },
  {
   "cell_type": "markdown",
   "metadata": {},
   "source": [
    "This shows that we have two columnns 'a' and 'b' and four rows in our DataFrame.\n",
    "\n",
    "However large DataFrames cannot be printed to the console and we have higher level commands to inspect its contents. To get information on the schema of the DataFrames, we can use the info function"
   ]
  },
  {
   "cell_type": "code",
   "execution_count": 4,
   "metadata": {},
   "outputs": [
    {
     "name": "stdout",
     "output_type": "stream",
     "text": [
      "<class 'pandas.core.frame.DataFrame'>\n",
      "RangeIndex: 4 entries, 0 to 3\n",
      "Data columns (total 2 columns):\n",
      " #   Column  Non-Null Count  Dtype \n",
      "---  ------  --------------  ----- \n",
      " 0   a       4 non-null      int64 \n",
      " 1   b       4 non-null      object\n",
      "dtypes: int64(1), object(1)\n",
      "memory usage: 192.0+ bytes\n"
     ]
    }
   ],
   "source": [
    "df.info()"
   ]
  },
  {
   "cell_type": "markdown",
   "metadata": {},
   "source": [
    "To see the first few rows you can use <code>head</code> and to see the last few rows you can use <code>tail</code>. This is similar to the UNIX-command line tools"
   ]
  },
  {
   "cell_type": "code",
   "execution_count": 5,
   "metadata": {},
   "outputs": [
    {
     "data": {
      "text/html": [
       "<div>\n",
       "<style scoped>\n",
       "    .dataframe tbody tr th:only-of-type {\n",
       "        vertical-align: middle;\n",
       "    }\n",
       "\n",
       "    .dataframe tbody tr th {\n",
       "        vertical-align: top;\n",
       "    }\n",
       "\n",
       "    .dataframe thead th {\n",
       "        text-align: right;\n",
       "    }\n",
       "</style>\n",
       "<table border=\"1\" class=\"dataframe\">\n",
       "  <thead>\n",
       "    <tr style=\"text-align: right;\">\n",
       "      <th></th>\n",
       "      <th>a</th>\n",
       "      <th>b</th>\n",
       "    </tr>\n",
       "  </thead>\n",
       "  <tbody>\n",
       "    <tr>\n",
       "      <th>0</th>\n",
       "      <td>1</td>\n",
       "      <td>w</td>\n",
       "    </tr>\n",
       "    <tr>\n",
       "      <th>1</th>\n",
       "      <td>2</td>\n",
       "      <td>x</td>\n",
       "    </tr>\n",
       "  </tbody>\n",
       "</table>\n",
       "</div>"
      ],
      "text/plain": [
       "   a  b\n",
       "0  1  w\n",
       "1  2  x"
      ]
     },
     "execution_count": 5,
     "metadata": {},
     "output_type": "execute_result"
    }
   ],
   "source": [
    "df.head(2)"
   ]
  },
  {
   "cell_type": "markdown",
   "metadata": {},
   "source": [
    "To print any range of rows from the DataFrame you can use array-like indexing of row ids. As you might have noticed rows are numbered from 0 in Pandas, so to get the middle two rows we can use the range 1:3"
   ]
  },
  {
   "cell_type": "code",
   "execution_count": 6,
   "metadata": {},
   "outputs": [
    {
     "data": {
      "text/html": [
       "<div>\n",
       "<style scoped>\n",
       "    .dataframe tbody tr th:only-of-type {\n",
       "        vertical-align: middle;\n",
       "    }\n",
       "\n",
       "    .dataframe tbody tr th {\n",
       "        vertical-align: top;\n",
       "    }\n",
       "\n",
       "    .dataframe thead th {\n",
       "        text-align: right;\n",
       "    }\n",
       "</style>\n",
       "<table border=\"1\" class=\"dataframe\">\n",
       "  <thead>\n",
       "    <tr style=\"text-align: right;\">\n",
       "      <th></th>\n",
       "      <th>a</th>\n",
       "      <th>b</th>\n",
       "    </tr>\n",
       "  </thead>\n",
       "  <tbody>\n",
       "    <tr>\n",
       "      <th>1</th>\n",
       "      <td>2</td>\n",
       "      <td>x</td>\n",
       "    </tr>\n",
       "    <tr>\n",
       "      <th>2</th>\n",
       "      <td>3</td>\n",
       "      <td>y</td>\n",
       "    </tr>\n",
       "  </tbody>\n",
       "</table>\n",
       "</div>"
      ],
      "text/plain": [
       "   a  b\n",
       "1  2  x\n",
       "2  3  y"
      ]
     },
     "execution_count": 6,
     "metadata": {},
     "output_type": "execute_result"
    }
   ],
   "source": [
    "df[1:3]"
   ]
  },
  {
   "cell_type": "markdown",
   "metadata": {},
   "source": [
    "Finally, Pandas also has a useful function describe that summarizes the contents of numerical columns in a DataFrame. For example in df we can see the mean, standard deviation etc. for the column a by running describe."
   ]
  },
  {
   "cell_type": "markdown",
   "metadata": {},
   "source": [
    "Having worked our way through the basics, lets now see how we can use Pandas for data analysis. To do this part of the lab we will use the World Cup soccer logs in csv format."
   ]
  },
  {
   "cell_type": "code",
   "execution_count": 7,
   "metadata": {},
   "outputs": [
    {
     "data": {
      "text/html": [
       "<div>\n",
       "<style scoped>\n",
       "    .dataframe tbody tr th:only-of-type {\n",
       "        vertical-align: middle;\n",
       "    }\n",
       "\n",
       "    .dataframe tbody tr th {\n",
       "        vertical-align: top;\n",
       "    }\n",
       "\n",
       "    .dataframe thead th {\n",
       "        text-align: right;\n",
       "    }\n",
       "</style>\n",
       "<table border=\"1\" class=\"dataframe\">\n",
       "  <thead>\n",
       "    <tr style=\"text-align: right;\">\n",
       "      <th></th>\n",
       "      <th>ClientID</th>\n",
       "      <th>Date</th>\n",
       "      <th>Time</th>\n",
       "      <th>URL</th>\n",
       "      <th>ResponseCode</th>\n",
       "      <th>Size</th>\n",
       "    </tr>\n",
       "  </thead>\n",
       "  <tbody>\n",
       "    <tr>\n",
       "      <th>0</th>\n",
       "      <td>1044</td>\n",
       "      <td>30/Apr/1998</td>\n",
       "      <td>22:46:12</td>\n",
       "      <td>/images/11104.gif</td>\n",
       "      <td>200.0</td>\n",
       "      <td>508.0</td>\n",
       "    </tr>\n",
       "    <tr>\n",
       "      <th>1</th>\n",
       "      <td>10871</td>\n",
       "      <td>01/May/1998</td>\n",
       "      <td>12:10:53</td>\n",
       "      <td>/images/ligne.gif</td>\n",
       "      <td>200.0</td>\n",
       "      <td>169.0</td>\n",
       "    </tr>\n",
       "    <tr>\n",
       "      <th>2</th>\n",
       "      <td>11012</td>\n",
       "      <td>01/May/1998</td>\n",
       "      <td>12:17:30</td>\n",
       "      <td>/english/individuals/player111503.htm</td>\n",
       "      <td>200.0</td>\n",
       "      <td>7027.0</td>\n",
       "    </tr>\n",
       "    <tr>\n",
       "      <th>3</th>\n",
       "      <td>11435</td>\n",
       "      <td>01/May/1998</td>\n",
       "      <td>13:15:13</td>\n",
       "      <td>/french/frntpage.htm</td>\n",
       "      <td>304.0</td>\n",
       "      <td>0.0</td>\n",
       "    </tr>\n",
       "    <tr>\n",
       "      <th>4</th>\n",
       "      <td>12128</td>\n",
       "      <td>01/May/1998</td>\n",
       "      <td>13:30:21</td>\n",
       "      <td>/english/images/nav_sitemap_off.gif</td>\n",
       "      <td>304.0</td>\n",
       "      <td>NaN</td>\n",
       "    </tr>\n",
       "  </tbody>\n",
       "</table>\n",
       "</div>"
      ],
      "text/plain": [
       "   ClientID         Date      Time                                    URL  \\\n",
       "0      1044  30/Apr/1998  22:46:12                      /images/11104.gif   \n",
       "1     10871  01/May/1998  12:10:53                      /images/ligne.gif   \n",
       "2     11012  01/May/1998  12:17:30  /english/individuals/player111503.htm   \n",
       "3     11435  01/May/1998  13:15:13                   /french/frntpage.htm   \n",
       "4     12128  01/May/1998  13:30:21    /english/images/nav_sitemap_off.gif   \n",
       "\n",
       "   ResponseCode    Size  \n",
       "0         200.0   508.0  \n",
       "1         200.0   169.0  \n",
       "2         200.0  7027.0  \n",
       "3         304.0     0.0  \n",
       "4         304.0     NaN  "
      ]
     },
     "execution_count": 7,
     "metadata": {},
     "output_type": "execute_result"
    }
   ],
   "source": [
    "log_df = pd.read_csv(\"wc_day6_1_sample.csv\",\n",
    "                     names=['ClientID', 'Date', 'Time', 'URL', 'ResponseCode', 'Size'],\n",
    "                     na_values=['-'],encoding= 'unicode_escape')\n",
    "log_df.head()"
   ]
  },
  {
   "cell_type": "markdown",
   "metadata": {},
   "source": [
    "The names argument tells Pandas what the column names are in our file and na_values indicates what character is used for missing values in our dataset. Use the commands from the previous section to explore the dataset and its summary statistics.\n",
    "\n",
    "> TODO:\n",
    "\n",
    "    How many rows are present in log_df ?\n",
    "    What are the URLs between rows 85 and 87 inclusive ?\n"
   ]
  },
  {
   "cell_type": "code",
   "execution_count": 8,
   "metadata": {},
   "outputs": [
    {
     "data": {
      "text/plain": [
       "200000"
      ]
     },
     "execution_count": 8,
     "metadata": {},
     "output_type": "execute_result"
    }
   ],
   "source": [
    "len(log_df)"
   ]
  },
  {
   "cell_type": "code",
   "execution_count": 9,
   "metadata": {},
   "outputs": [
    {
     "data": {
      "text/plain": [
       "85     /english/nav_top_inet.html\n",
       "86        /images/teams_hm_bg.jpg\n",
       "87    /images/home_eng_phrase.gif\n",
       "Name: URL, dtype: object"
      ]
     },
     "execution_count": 9,
     "metadata": {},
     "output_type": "execute_result"
    }
   ],
   "source": [
    "log_df['URL'][85:88]"
   ]
  },
  {
   "cell_type": "markdown",
   "metadata": {},
   "source": [
    "## SQL-like operators"
   ]
  },
  {
   "cell_type": "markdown",
   "metadata": {},
   "source": [
    "Next we will look at operators in Pandas that allow us to perform SQL-like queries on the dataset."
   ]
  },
  {
   "cell_type": "markdown",
   "metadata": {},
   "source": [
    "### Selection"
   ]
  },
  {
   "cell_type": "markdown",
   "metadata": {},
   "source": [
    "A SQL statement typically selects a subset of rows from a table that match a given criteria. This is known as the Selection operator in Relational Algebra. Similarly we can perform selections in Pandas using boolean indexing.\n",
    "\n",
    "Boolean indexing refers to a technique where you can use a list of boolean values to filter a DataFrame. For example lets say we only want entries from '01/May/1998'. To do this we can create a boolean list like"
   ]
  },
  {
   "cell_type": "code",
   "execution_count": 10,
   "metadata": {},
   "outputs": [
    {
     "data": {
      "text/plain": [
       "0    False\n",
       "1     True\n",
       "Name: Date, dtype: bool"
      ]
     },
     "execution_count": 10,
     "metadata": {},
     "output_type": "execute_result"
    }
   ],
   "source": [
    "is_may1st = log_df['Date'] == '01/May/1998'\n",
    "is_may1st.head(2)"
   ]
  },
  {
   "cell_type": "markdown",
   "metadata": {},
   "source": [
    "Now we can filter our DataFrame by passing it the boolean list."
   ]
  },
  {
   "cell_type": "code",
   "execution_count": 11,
   "metadata": {},
   "outputs": [
    {
     "data": {
      "text/html": [
       "<div>\n",
       "<style scoped>\n",
       "    .dataframe tbody tr th:only-of-type {\n",
       "        vertical-align: middle;\n",
       "    }\n",
       "\n",
       "    .dataframe tbody tr th {\n",
       "        vertical-align: top;\n",
       "    }\n",
       "\n",
       "    .dataframe thead th {\n",
       "        text-align: right;\n",
       "    }\n",
       "</style>\n",
       "<table border=\"1\" class=\"dataframe\">\n",
       "  <thead>\n",
       "    <tr style=\"text-align: right;\">\n",
       "      <th></th>\n",
       "      <th>ClientID</th>\n",
       "      <th>Date</th>\n",
       "      <th>Time</th>\n",
       "      <th>URL</th>\n",
       "      <th>ResponseCode</th>\n",
       "      <th>Size</th>\n",
       "    </tr>\n",
       "  </thead>\n",
       "  <tbody>\n",
       "    <tr>\n",
       "      <th>1</th>\n",
       "      <td>10871</td>\n",
       "      <td>01/May/1998</td>\n",
       "      <td>12:10:53</td>\n",
       "      <td>/images/ligne.gif</td>\n",
       "      <td>200.0</td>\n",
       "      <td>169.0</td>\n",
       "    </tr>\n",
       "    <tr>\n",
       "      <th>2</th>\n",
       "      <td>11012</td>\n",
       "      <td>01/May/1998</td>\n",
       "      <td>12:17:30</td>\n",
       "      <td>/english/individuals/player111503.htm</td>\n",
       "      <td>200.0</td>\n",
       "      <td>7027.0</td>\n",
       "    </tr>\n",
       "    <tr>\n",
       "      <th>3</th>\n",
       "      <td>11435</td>\n",
       "      <td>01/May/1998</td>\n",
       "      <td>13:15:13</td>\n",
       "      <td>/french/frntpage.htm</td>\n",
       "      <td>304.0</td>\n",
       "      <td>0.0</td>\n",
       "    </tr>\n",
       "    <tr>\n",
       "      <th>4</th>\n",
       "      <td>12128</td>\n",
       "      <td>01/May/1998</td>\n",
       "      <td>13:30:21</td>\n",
       "      <td>/english/images/nav_sitemap_off.gif</td>\n",
       "      <td>304.0</td>\n",
       "      <td>NaN</td>\n",
       "    </tr>\n",
       "    <tr>\n",
       "      <th>5</th>\n",
       "      <td>13649</td>\n",
       "      <td>01/May/1998</td>\n",
       "      <td>14:55:01</td>\n",
       "      <td>/images/hm_anime_e.gif</td>\n",
       "      <td>200.0</td>\n",
       "      <td>15609.0</td>\n",
       "    </tr>\n",
       "  </tbody>\n",
       "</table>\n",
       "</div>"
      ],
      "text/plain": [
       "   ClientID         Date      Time                                    URL  \\\n",
       "1     10871  01/May/1998  12:10:53                      /images/ligne.gif   \n",
       "2     11012  01/May/1998  12:17:30  /english/individuals/player111503.htm   \n",
       "3     11435  01/May/1998  13:15:13                   /french/frntpage.htm   \n",
       "4     12128  01/May/1998  13:30:21    /english/images/nav_sitemap_off.gif   \n",
       "5     13649  01/May/1998  14:55:01                 /images/hm_anime_e.gif   \n",
       "\n",
       "   ResponseCode     Size  \n",
       "1         200.0    169.0  \n",
       "2         200.0   7027.0  \n",
       "3         304.0      0.0  \n",
       "4         304.0      NaN  \n",
       "5         200.0  15609.0  "
      ]
     },
     "execution_count": 11,
     "metadata": {},
     "output_type": "execute_result"
    }
   ],
   "source": [
    "may1_df = log_df[is_may1st]\n",
    "may1_df.head()"
   ]
  },
  {
   "cell_type": "markdown",
   "metadata": {},
   "source": [
    "Or we can directly do this by passing in the boolean clause to the DataFrame"
   ]
  },
  {
   "cell_type": "code",
   "execution_count": 12,
   "metadata": {},
   "outputs": [
    {
     "data": {
      "text/html": [
       "<div>\n",
       "<style scoped>\n",
       "    .dataframe tbody tr th:only-of-type {\n",
       "        vertical-align: middle;\n",
       "    }\n",
       "\n",
       "    .dataframe tbody tr th {\n",
       "        vertical-align: top;\n",
       "    }\n",
       "\n",
       "    .dataframe thead th {\n",
       "        text-align: right;\n",
       "    }\n",
       "</style>\n",
       "<table border=\"1\" class=\"dataframe\">\n",
       "  <thead>\n",
       "    <tr style=\"text-align: right;\">\n",
       "      <th></th>\n",
       "      <th>ClientID</th>\n",
       "      <th>Date</th>\n",
       "      <th>Time</th>\n",
       "      <th>URL</th>\n",
       "      <th>ResponseCode</th>\n",
       "      <th>Size</th>\n",
       "    </tr>\n",
       "  </thead>\n",
       "  <tbody>\n",
       "    <tr>\n",
       "      <th>1</th>\n",
       "      <td>10871</td>\n",
       "      <td>01/May/1998</td>\n",
       "      <td>12:10:53</td>\n",
       "      <td>/images/ligne.gif</td>\n",
       "      <td>200.0</td>\n",
       "      <td>169.0</td>\n",
       "    </tr>\n",
       "    <tr>\n",
       "      <th>2</th>\n",
       "      <td>11012</td>\n",
       "      <td>01/May/1998</td>\n",
       "      <td>12:17:30</td>\n",
       "      <td>/english/individuals/player111503.htm</td>\n",
       "      <td>200.0</td>\n",
       "      <td>7027.0</td>\n",
       "    </tr>\n",
       "    <tr>\n",
       "      <th>3</th>\n",
       "      <td>11435</td>\n",
       "      <td>01/May/1998</td>\n",
       "      <td>13:15:13</td>\n",
       "      <td>/french/frntpage.htm</td>\n",
       "      <td>304.0</td>\n",
       "      <td>0.0</td>\n",
       "    </tr>\n",
       "    <tr>\n",
       "      <th>4</th>\n",
       "      <td>12128</td>\n",
       "      <td>01/May/1998</td>\n",
       "      <td>13:30:21</td>\n",
       "      <td>/english/images/nav_sitemap_off.gif</td>\n",
       "      <td>304.0</td>\n",
       "      <td>NaN</td>\n",
       "    </tr>\n",
       "    <tr>\n",
       "      <th>5</th>\n",
       "      <td>13649</td>\n",
       "      <td>01/May/1998</td>\n",
       "      <td>14:55:01</td>\n",
       "      <td>/images/hm_anime_e.gif</td>\n",
       "      <td>200.0</td>\n",
       "      <td>15609.0</td>\n",
       "    </tr>\n",
       "  </tbody>\n",
       "</table>\n",
       "</div>"
      ],
      "text/plain": [
       "   ClientID         Date      Time                                    URL  \\\n",
       "1     10871  01/May/1998  12:10:53                      /images/ligne.gif   \n",
       "2     11012  01/May/1998  12:17:30  /english/individuals/player111503.htm   \n",
       "3     11435  01/May/1998  13:15:13                   /french/frntpage.htm   \n",
       "4     12128  01/May/1998  13:30:21    /english/images/nav_sitemap_off.gif   \n",
       "5     13649  01/May/1998  14:55:01                 /images/hm_anime_e.gif   \n",
       "\n",
       "   ResponseCode     Size  \n",
       "1         200.0    169.0  \n",
       "2         200.0   7027.0  \n",
       "3         304.0      0.0  \n",
       "4         304.0      NaN  \n",
       "5         200.0  15609.0  "
      ]
     },
     "execution_count": 12,
     "metadata": {},
     "output_type": "execute_result"
    }
   ],
   "source": [
    "may1_df = log_df[log_df['Date'] == '01/May/1998']\n",
    "may1_df.head()"
   ]
  },
  {
   "cell_type": "markdown",
   "metadata": {},
   "source": [
    "## Projection"
   ]
  },
  {
   "cell_type": "markdown",
   "metadata": {},
   "source": [
    "While selection is used for filtering rows, <a href=\"http://en.wikipedia.org/wiki/Projection_%28relational_algebra%29\">projection</a> is the relational algebra operator used to select columns. To do this with Pandas we just need to pass in a list of columns that we wish to select. For example to only keep the 'URL' and 'ResponseCode' column we would run"
   ]
  },
  {
   "cell_type": "code",
   "execution_count": 13,
   "metadata": {},
   "outputs": [
    {
     "data": {
      "text/html": [
       "<div>\n",
       "<style scoped>\n",
       "    .dataframe tbody tr th:only-of-type {\n",
       "        vertical-align: middle;\n",
       "    }\n",
       "\n",
       "    .dataframe tbody tr th {\n",
       "        vertical-align: top;\n",
       "    }\n",
       "\n",
       "    .dataframe thead th {\n",
       "        text-align: right;\n",
       "    }\n",
       "</style>\n",
       "<table border=\"1\" class=\"dataframe\">\n",
       "  <thead>\n",
       "    <tr style=\"text-align: right;\">\n",
       "      <th></th>\n",
       "      <th>URL</th>\n",
       "      <th>ResponseCode</th>\n",
       "    </tr>\n",
       "  </thead>\n",
       "  <tbody>\n",
       "    <tr>\n",
       "      <th>0</th>\n",
       "      <td>/images/11104.gif</td>\n",
       "      <td>200.0</td>\n",
       "    </tr>\n",
       "    <tr>\n",
       "      <th>1</th>\n",
       "      <td>/images/ligne.gif</td>\n",
       "      <td>200.0</td>\n",
       "    </tr>\n",
       "    <tr>\n",
       "      <th>2</th>\n",
       "      <td>/english/individuals/player111503.htm</td>\n",
       "      <td>200.0</td>\n",
       "    </tr>\n",
       "    <tr>\n",
       "      <th>3</th>\n",
       "      <td>/french/frntpage.htm</td>\n",
       "      <td>304.0</td>\n",
       "    </tr>\n",
       "    <tr>\n",
       "      <th>4</th>\n",
       "      <td>/english/images/nav_sitemap_off.gif</td>\n",
       "      <td>304.0</td>\n",
       "    </tr>\n",
       "  </tbody>\n",
       "</table>\n",
       "</div>"
      ],
      "text/plain": [
       "                                     URL  ResponseCode\n",
       "0                      /images/11104.gif         200.0\n",
       "1                      /images/ligne.gif         200.0\n",
       "2  /english/individuals/player111503.htm         200.0\n",
       "3                   /french/frntpage.htm         304.0\n",
       "4    /english/images/nav_sitemap_off.gif         304.0"
      ]
     },
     "execution_count": 13,
     "metadata": {},
     "output_type": "execute_result"
    }
   ],
   "source": [
    "url_codes = log_df[['URL', 'ResponseCode']]\n",
    "url_codes.head(5)"
   ]
  },
  {
   "cell_type": "markdown",
   "metadata": {},
   "source": [
    "## Grouping"
   ]
  },
  {
   "cell_type": "markdown",
   "metadata": {},
   "source": [
    "Pandas also allows you to group the DataFrame by values in any column. For example to group requests by 'ResponseCode' you can run"
   ]
  },
  {
   "cell_type": "code",
   "execution_count": 14,
   "metadata": {},
   "outputs": [
    {
     "data": {
      "text/plain": [
       "<pandas.core.groupby.generic.DataFrameGroupBy object at 0x000001B45A0FEE48>"
      ]
     },
     "execution_count": 14,
     "metadata": {},
     "output_type": "execute_result"
    }
   ],
   "source": [
    "grouped = log_df.groupby('ResponseCode')\n",
    "grouped"
   ]
  },
  {
   "cell_type": "markdown",
   "metadata": {},
   "source": [
    "As you can see from the output above, grouped is not a DataFrame but an object of type DataFrameGroupBy. This just means that it contains a number of groups and each group is in turn a DataFrame. To see this try"
   ]
  },
  {
   "cell_type": "code",
   "execution_count": 15,
   "metadata": {},
   "outputs": [
    {
     "name": "stdout",
     "output_type": "stream",
     "text": [
      "7\n"
     ]
    },
    {
     "data": {
      "text/plain": [
       "dict_keys([200.0, 206.0, 302.0, 304.0, 400.0, 404.0, 500.0])"
      ]
     },
     "execution_count": 15,
     "metadata": {},
     "output_type": "execute_result"
    }
   ],
   "source": [
    "print(grouped.ngroups)\n",
    "grouped.groups.keys()"
   ]
  },
  {
   "cell_type": "code",
   "execution_count": 16,
   "metadata": {},
   "outputs": [
    {
     "data": {
      "text/html": [
       "<div>\n",
       "<style scoped>\n",
       "    .dataframe tbody tr th:only-of-type {\n",
       "        vertical-align: middle;\n",
       "    }\n",
       "\n",
       "    .dataframe tbody tr th {\n",
       "        vertical-align: top;\n",
       "    }\n",
       "\n",
       "    .dataframe thead th {\n",
       "        text-align: right;\n",
       "    }\n",
       "</style>\n",
       "<table border=\"1\" class=\"dataframe\">\n",
       "  <thead>\n",
       "    <tr style=\"text-align: right;\">\n",
       "      <th></th>\n",
       "      <th>ClientID</th>\n",
       "      <th>Date</th>\n",
       "      <th>Time</th>\n",
       "      <th>URL</th>\n",
       "      <th>ResponseCode</th>\n",
       "      <th>Size</th>\n",
       "    </tr>\n",
       "  </thead>\n",
       "  <tbody>\n",
       "    <tr>\n",
       "      <th>0</th>\n",
       "      <td>1044</td>\n",
       "      <td>30/Apr/1998</td>\n",
       "      <td>22:46:12</td>\n",
       "      <td>/images/11104.gif</td>\n",
       "      <td>200.0</td>\n",
       "      <td>508.0</td>\n",
       "    </tr>\n",
       "    <tr>\n",
       "      <th>1</th>\n",
       "      <td>10871</td>\n",
       "      <td>01/May/1998</td>\n",
       "      <td>12:10:53</td>\n",
       "      <td>/images/ligne.gif</td>\n",
       "      <td>200.0</td>\n",
       "      <td>169.0</td>\n",
       "    </tr>\n",
       "    <tr>\n",
       "      <th>2</th>\n",
       "      <td>11012</td>\n",
       "      <td>01/May/1998</td>\n",
       "      <td>12:17:30</td>\n",
       "      <td>/english/individuals/player111503.htm</td>\n",
       "      <td>200.0</td>\n",
       "      <td>7027.0</td>\n",
       "    </tr>\n",
       "    <tr>\n",
       "      <th>5</th>\n",
       "      <td>13649</td>\n",
       "      <td>01/May/1998</td>\n",
       "      <td>14:55:01</td>\n",
       "      <td>/images/hm_anime_e.gif</td>\n",
       "      <td>200.0</td>\n",
       "      <td>15609.0</td>\n",
       "    </tr>\n",
       "    <tr>\n",
       "      <th>6</th>\n",
       "      <td>15006</td>\n",
       "      <td>01/May/1998</td>\n",
       "      <td>16:14:32</td>\n",
       "      <td>/english/images/comp_bu_group_off.gif</td>\n",
       "      <td>200.0</td>\n",
       "      <td>1557.0</td>\n",
       "    </tr>\n",
       "  </tbody>\n",
       "</table>\n",
       "</div>"
      ],
      "text/plain": [
       "   ClientID         Date      Time                                    URL  \\\n",
       "0      1044  30/Apr/1998  22:46:12                      /images/11104.gif   \n",
       "1     10871  01/May/1998  12:10:53                      /images/ligne.gif   \n",
       "2     11012  01/May/1998  12:17:30  /english/individuals/player111503.htm   \n",
       "5     13649  01/May/1998  14:55:01                 /images/hm_anime_e.gif   \n",
       "6     15006  01/May/1998  16:14:32  /english/images/comp_bu_group_off.gif   \n",
       "\n",
       "   ResponseCode     Size  \n",
       "0         200.0    508.0  \n",
       "1         200.0    169.0  \n",
       "2         200.0   7027.0  \n",
       "5         200.0  15609.0  \n",
       "6         200.0   1557.0  "
      ]
     },
     "execution_count": 16,
     "metadata": {},
     "output_type": "execute_result"
    }
   ],
   "source": [
    "grouped.get_group(200).head()"
   ]
  },
  {
   "cell_type": "markdown",
   "metadata": {},
   "source": [
    "You can also group by multiple columns by just passing the a list of column names. For example to group by both date and response code you can run"
   ]
  },
  {
   "cell_type": "code",
   "execution_count": 17,
   "metadata": {},
   "outputs": [],
   "source": [
    "multi_grouped = log_df.groupby(['ResponseCode', 'Date'])"
   ]
  },
  {
   "cell_type": "markdown",
   "metadata": {},
   "source": [
    "Pandas also has useful commands (Links to an external site.) to print various statistics about elements in each group.\n",
    "\n",
    "1. grouped.describe() prints summary statistics for numeric columns in each group\n",
    "2. grouped.size() prints the number of elements in each group\n",
    "3. Similarly grouped.sum(), grouped.mean() and grouped.median() print the sum, mean and median values for numeric columns in each group\n"
   ]
  },
  {
   "cell_type": "code",
   "execution_count": 18,
   "metadata": {},
   "outputs": [
    {
     "data": {
      "text/html": [
       "<div>\n",
       "<style scoped>\n",
       "    .dataframe tbody tr th:only-of-type {\n",
       "        vertical-align: middle;\n",
       "    }\n",
       "\n",
       "    .dataframe tbody tr th {\n",
       "        vertical-align: top;\n",
       "    }\n",
       "\n",
       "    .dataframe thead tr th {\n",
       "        text-align: left;\n",
       "    }\n",
       "\n",
       "    .dataframe thead tr:last-of-type th {\n",
       "        text-align: right;\n",
       "    }\n",
       "</style>\n",
       "<table border=\"1\" class=\"dataframe\">\n",
       "  <thead>\n",
       "    <tr>\n",
       "      <th></th>\n",
       "      <th colspan=\"8\" halign=\"left\">ClientID</th>\n",
       "      <th colspan=\"8\" halign=\"left\">Size</th>\n",
       "    </tr>\n",
       "    <tr>\n",
       "      <th></th>\n",
       "      <th>count</th>\n",
       "      <th>mean</th>\n",
       "      <th>std</th>\n",
       "      <th>min</th>\n",
       "      <th>25%</th>\n",
       "      <th>50%</th>\n",
       "      <th>75%</th>\n",
       "      <th>max</th>\n",
       "      <th>count</th>\n",
       "      <th>mean</th>\n",
       "      <th>std</th>\n",
       "      <th>min</th>\n",
       "      <th>25%</th>\n",
       "      <th>50%</th>\n",
       "      <th>75%</th>\n",
       "      <th>max</th>\n",
       "    </tr>\n",
       "    <tr>\n",
       "      <th>ResponseCode</th>\n",
       "      <th></th>\n",
       "      <th></th>\n",
       "      <th></th>\n",
       "      <th></th>\n",
       "      <th></th>\n",
       "      <th></th>\n",
       "      <th></th>\n",
       "      <th></th>\n",
       "      <th></th>\n",
       "      <th></th>\n",
       "      <th></th>\n",
       "      <th></th>\n",
       "      <th></th>\n",
       "      <th></th>\n",
       "      <th></th>\n",
       "      <th></th>\n",
       "    </tr>\n",
       "  </thead>\n",
       "  <tbody>\n",
       "    <tr>\n",
       "      <th>200.0</th>\n",
       "      <td>173924.0</td>\n",
       "      <td>10046.995895</td>\n",
       "      <td>6306.122163</td>\n",
       "      <td>0.0</td>\n",
       "      <td>4523.0</td>\n",
       "      <td>10081.0</td>\n",
       "      <td>15195.00</td>\n",
       "      <td>34794.0</td>\n",
       "      <td>173924.0</td>\n",
       "      <td>8441.722091</td>\n",
       "      <td>81966.548843</td>\n",
       "      <td>42.0</td>\n",
       "      <td>333.0</td>\n",
       "      <td>937.0</td>\n",
       "      <td>2843.00</td>\n",
       "      <td>2891887.0</td>\n",
       "    </tr>\n",
       "    <tr>\n",
       "      <th>206.0</th>\n",
       "      <td>379.0</td>\n",
       "      <td>10405.707124</td>\n",
       "      <td>6873.149913</td>\n",
       "      <td>16.0</td>\n",
       "      <td>4400.5</td>\n",
       "      <td>10274.0</td>\n",
       "      <td>15903.00</td>\n",
       "      <td>34772.0</td>\n",
       "      <td>379.0</td>\n",
       "      <td>89686.058047</td>\n",
       "      <td>326996.300708</td>\n",
       "      <td>6.0</td>\n",
       "      <td>1422.5</td>\n",
       "      <td>10200.0</td>\n",
       "      <td>32444.00</td>\n",
       "      <td>2020644.0</td>\n",
       "    </tr>\n",
       "    <tr>\n",
       "      <th>302.0</th>\n",
       "      <td>14.0</td>\n",
       "      <td>11486.357143</td>\n",
       "      <td>8717.995999</td>\n",
       "      <td>880.0</td>\n",
       "      <td>6531.5</td>\n",
       "      <td>9865.5</td>\n",
       "      <td>15442.25</td>\n",
       "      <td>34618.0</td>\n",
       "      <td>14.0</td>\n",
       "      <td>238.142857</td>\n",
       "      <td>64.895012</td>\n",
       "      <td>217.0</td>\n",
       "      <td>218.0</td>\n",
       "      <td>218.0</td>\n",
       "      <td>221.75</td>\n",
       "      <td>462.0</td>\n",
       "    </tr>\n",
       "    <tr>\n",
       "      <th>304.0</th>\n",
       "      <td>25457.0</td>\n",
       "      <td>8976.670503</td>\n",
       "      <td>6666.790558</td>\n",
       "      <td>0.0</td>\n",
       "      <td>3122.0</td>\n",
       "      <td>8349.0</td>\n",
       "      <td>13894.00</td>\n",
       "      <td>34789.0</td>\n",
       "      <td>16790.0</td>\n",
       "      <td>11.878320</td>\n",
       "      <td>412.092714</td>\n",
       "      <td>0.0</td>\n",
       "      <td>0.0</td>\n",
       "      <td>0.0</td>\n",
       "      <td>0.00</td>\n",
       "      <td>33665.0</td>\n",
       "    </tr>\n",
       "    <tr>\n",
       "      <th>400.0</th>\n",
       "      <td>3.0</td>\n",
       "      <td>4717.666667</td>\n",
       "      <td>6818.506679</td>\n",
       "      <td>781.0</td>\n",
       "      <td>781.0</td>\n",
       "      <td>781.0</td>\n",
       "      <td>6686.00</td>\n",
       "      <td>12591.0</td>\n",
       "      <td>3.0</td>\n",
       "      <td>136.000000</td>\n",
       "      <td>19.052559</td>\n",
       "      <td>114.0</td>\n",
       "      <td>130.5</td>\n",
       "      <td>147.0</td>\n",
       "      <td>147.00</td>\n",
       "      <td>147.0</td>\n",
       "    </tr>\n",
       "    <tr>\n",
       "      <th>404.0</th>\n",
       "      <td>215.0</td>\n",
       "      <td>8265.813953</td>\n",
       "      <td>5350.876772</td>\n",
       "      <td>85.0</td>\n",
       "      <td>4467.0</td>\n",
       "      <td>7116.0</td>\n",
       "      <td>12159.50</td>\n",
       "      <td>20644.0</td>\n",
       "      <td>215.0</td>\n",
       "      <td>269.023256</td>\n",
       "      <td>63.302895</td>\n",
       "      <td>207.0</td>\n",
       "      <td>207.0</td>\n",
       "      <td>207.0</td>\n",
       "      <td>334.00</td>\n",
       "      <td>368.0</td>\n",
       "    </tr>\n",
       "    <tr>\n",
       "      <th>500.0</th>\n",
       "      <td>5.0</td>\n",
       "      <td>10207.400000</td>\n",
       "      <td>5023.652685</td>\n",
       "      <td>7195.0</td>\n",
       "      <td>7195.0</td>\n",
       "      <td>7211.0</td>\n",
       "      <td>10648.00</td>\n",
       "      <td>18788.0</td>\n",
       "      <td>5.0</td>\n",
       "      <td>305.000000</td>\n",
       "      <td>0.000000</td>\n",
       "      <td>305.0</td>\n",
       "      <td>305.0</td>\n",
       "      <td>305.0</td>\n",
       "      <td>305.00</td>\n",
       "      <td>305.0</td>\n",
       "    </tr>\n",
       "  </tbody>\n",
       "</table>\n",
       "</div>"
      ],
      "text/plain": [
       "              ClientID                                                      \\\n",
       "                 count          mean          std     min     25%      50%   \n",
       "ResponseCode                                                                 \n",
       "200.0         173924.0  10046.995895  6306.122163     0.0  4523.0  10081.0   \n",
       "206.0            379.0  10405.707124  6873.149913    16.0  4400.5  10274.0   \n",
       "302.0             14.0  11486.357143  8717.995999   880.0  6531.5   9865.5   \n",
       "304.0          25457.0   8976.670503  6666.790558     0.0  3122.0   8349.0   \n",
       "400.0              3.0   4717.666667  6818.506679   781.0   781.0    781.0   \n",
       "404.0            215.0   8265.813953  5350.876772    85.0  4467.0   7116.0   \n",
       "500.0              5.0  10207.400000  5023.652685  7195.0  7195.0   7211.0   \n",
       "\n",
       "                                     Size                                      \\\n",
       "                   75%      max     count          mean            std    min   \n",
       "ResponseCode                                                                    \n",
       "200.0         15195.00  34794.0  173924.0   8441.722091   81966.548843   42.0   \n",
       "206.0         15903.00  34772.0     379.0  89686.058047  326996.300708    6.0   \n",
       "302.0         15442.25  34618.0      14.0    238.142857      64.895012  217.0   \n",
       "304.0         13894.00  34789.0   16790.0     11.878320     412.092714    0.0   \n",
       "400.0          6686.00  12591.0       3.0    136.000000      19.052559  114.0   \n",
       "404.0         12159.50  20644.0     215.0    269.023256      63.302895  207.0   \n",
       "500.0         10648.00  18788.0       5.0    305.000000       0.000000  305.0   \n",
       "\n",
       "                                                    \n",
       "                 25%      50%       75%        max  \n",
       "ResponseCode                                        \n",
       "200.0          333.0    937.0   2843.00  2891887.0  \n",
       "206.0         1422.5  10200.0  32444.00  2020644.0  \n",
       "302.0          218.0    218.0    221.75      462.0  \n",
       "304.0            0.0      0.0      0.00    33665.0  \n",
       "400.0          130.5    147.0    147.00      147.0  \n",
       "404.0          207.0    207.0    334.00      368.0  \n",
       "500.0          305.0    305.0    305.00      305.0  "
      ]
     },
     "execution_count": 18,
     "metadata": {},
     "output_type": "execute_result"
    }
   ],
   "source": [
    "grouped.describe()"
   ]
  },
  {
   "cell_type": "markdown",
   "metadata": {},
   "source": [
    "## Plotting data in a DataFrame"
   ]
  },
  {
   "cell_type": "markdown",
   "metadata": {},
   "source": [
    "To plot a Series or a DataFrame you can just call plot() on the object and for a histogram just call hist()"
   ]
  },
  {
   "cell_type": "code",
   "execution_count": 19,
   "metadata": {},
   "outputs": [
    {
     "data": {
      "text/plain": [
       "<matplotlib.axes._subplots.AxesSubplot at 0x1b4587b3108>"
      ]
     },
     "execution_count": 19,
     "metadata": {},
     "output_type": "execute_result"
    },
    {
     "data": {
      "image/png": "[encoded data removed]",
      "text/plain": [
       "<Figure size 432x288 with 1 Axes>"
      ]
     },
     "metadata": {
      "needs_background": "light"
     },
     "output_type": "display_data"
    }
   ],
   "source": [
    "rand_df = pd.DataFrame({'a' : randn(100)})\n",
    "rand_df.plot()"
   ]
  },
  {
   "cell_type": "code",
   "execution_count": 20,
   "metadata": {},
   "outputs": [
    {
     "data": {
      "text/plain": [
       "array([[<matplotlib.axes._subplots.AxesSubplot object at 0x000001B459B50E08>]],\n",
       "      dtype=object)"
      ]
     },
     "execution_count": 20,
     "metadata": {},
     "output_type": "execute_result"
    },
    {
     "data": {
      "image/png": "[encoded data removed]",
      "text/plain": [
       "<Figure size 432x288 with 1 Axes>"
      ]
     },
     "metadata": {
      "needs_background": "light"
     },
     "output_type": "display_data"
    }
   ],
   "source": [
    "rand_df.hist()"
   ]
  },
  {
   "cell_type": "markdown",
   "metadata": {},
   "source": [
    "# Joins in Pandas"
   ]
  },
  {
   "cell_type": "markdown",
   "metadata": {},
   "source": [
    "## Joins\n",
    "\n",
    "A **join** is a way to connect rows in two different data tables based on some criteria.\n",
    "Suppose the university has a database for student records with two tables in it: *Students* and *Grades*.\n"
   ]
  },
  {
   "cell_type": "code",
   "execution_count": 21,
   "metadata": {},
   "outputs": [
    {
     "data": {
      "text/html": [
       "<div>\n",
       "<style scoped>\n",
       "    .dataframe tbody tr th:only-of-type {\n",
       "        vertical-align: middle;\n",
       "    }\n",
       "\n",
       "    .dataframe tbody tr th {\n",
       "        vertical-align: top;\n",
       "    }\n",
       "\n",
       "    .dataframe thead th {\n",
       "        text-align: right;\n",
       "    }\n",
       "</style>\n",
       "<table border=\"1\" class=\"dataframe\">\n",
       "  <thead>\n",
       "    <tr style=\"text-align: right;\">\n",
       "      <th></th>\n",
       "      <th>student_id</th>\n",
       "      <th>name</th>\n",
       "    </tr>\n",
       "  </thead>\n",
       "  <tbody>\n",
       "    <tr>\n",
       "      <th>0</th>\n",
       "      <td>1</td>\n",
       "      <td>Alice</td>\n",
       "    </tr>\n",
       "    <tr>\n",
       "      <th>1</th>\n",
       "      <td>2</td>\n",
       "      <td>Bob</td>\n",
       "    </tr>\n",
       "  </tbody>\n",
       "</table>\n",
       "</div>"
      ],
      "text/plain": [
       "   student_id   name\n",
       "0           1  Alice\n",
       "1           2    Bob"
      ]
     },
     "execution_count": 21,
     "metadata": {},
     "output_type": "execute_result"
    }
   ],
   "source": [
    "import pandas as pd\n",
    "\n",
    "Students = pd.DataFrame({'student_id': [1, 2], 'name': ['Alice', 'Bob']})\n",
    "Students"
   ]
  },
  {
   "cell_type": "code",
   "execution_count": 22,
   "metadata": {},
   "outputs": [
    {
     "data": {
      "text/html": [
       "<div>\n",
       "<style scoped>\n",
       "    .dataframe tbody tr th:only-of-type {\n",
       "        vertical-align: middle;\n",
       "    }\n",
       "\n",
       "    .dataframe tbody tr th {\n",
       "        vertical-align: top;\n",
       "    }\n",
       "\n",
       "    .dataframe thead th {\n",
       "        text-align: right;\n",
       "    }\n",
       "</style>\n",
       "<table border=\"1\" class=\"dataframe\">\n",
       "  <thead>\n",
       "    <tr style=\"text-align: right;\">\n",
       "      <th></th>\n",
       "      <th>student_id</th>\n",
       "      <th>class_id</th>\n",
       "      <th>grade</th>\n",
       "    </tr>\n",
       "  </thead>\n",
       "  <tbody>\n",
       "    <tr>\n",
       "      <th>0</th>\n",
       "      <td>1</td>\n",
       "      <td>1</td>\n",
       "      <td>A</td>\n",
       "    </tr>\n",
       "    <tr>\n",
       "      <th>1</th>\n",
       "      <td>1</td>\n",
       "      <td>2</td>\n",
       "      <td>C</td>\n",
       "    </tr>\n",
       "    <tr>\n",
       "      <th>2</th>\n",
       "      <td>2</td>\n",
       "      <td>1</td>\n",
       "      <td>B</td>\n",
       "    </tr>\n",
       "    <tr>\n",
       "      <th>3</th>\n",
       "      <td>2</td>\n",
       "      <td>3</td>\n",
       "      <td>B</td>\n",
       "    </tr>\n",
       "  </tbody>\n",
       "</table>\n",
       "</div>"
      ],
      "text/plain": [
       "   student_id  class_id grade\n",
       "0           1         1     A\n",
       "1           1         2     C\n",
       "2           2         1     B\n",
       "3           2         3     B"
      ]
     },
     "execution_count": 22,
     "metadata": {},
     "output_type": "execute_result"
    }
   ],
   "source": [
    "Grades = pd.DataFrame({'student_id': [1, 1, 2, 2], 'class_id': [1, 2, 1, 3], 'grade': ['A', 'C', 'B', 'B']})\n",
    "Grades"
   ]
  },
  {
   "cell_type": "markdown",
   "metadata": {},
   "source": [
    "Let's say we want to know all of Bob's grades.\n",
    "Then, we can look up Bob's student ID in the Students table, and with the ID, look up his grades in the Grades table.\n",
    "Joins naturally express this process: when two tables share a common type of column (student ID in this case), we can join the tables together to get a complete view.\n",
    "\n",
    "In Pandas, we can use the **merge** method to perform a join.\n",
    "Pass the two tables to join as the first arguments, then the \"on\" parameter is set to the join column name."
   ]
  },
  {
   "cell_type": "code",
   "execution_count": 24,
   "metadata": {},
   "outputs": [
    {
     "data": {
      "text/html": [
       "<div>\n",
       "<style scoped>\n",
       "    .dataframe tbody tr th:only-of-type {\n",
       "        vertical-align: middle;\n",
       "    }\n",
       "\n",
       "    .dataframe tbody tr th {\n",
       "        vertical-align: top;\n",
       "    }\n",
       "\n",
       "    .dataframe thead th {\n",
       "        text-align: right;\n",
       "    }\n",
       "</style>\n",
       "<table border=\"1\" class=\"dataframe\">\n",
       "  <thead>\n",
       "    <tr style=\"text-align: right;\">\n",
       "      <th></th>\n",
       "      <th>student_id</th>\n",
       "      <th>name</th>\n",
       "      <th>class_id</th>\n",
       "      <th>grade</th>\n",
       "    </tr>\n",
       "  </thead>\n",
       "  <tbody>\n",
       "    <tr>\n",
       "      <th>2</th>\n",
       "      <td>2</td>\n",
       "      <td>Bob</td>\n",
       "      <td>1</td>\n",
       "      <td>B</td>\n",
       "    </tr>\n",
       "    <tr>\n",
       "      <th>3</th>\n",
       "      <td>2</td>\n",
       "      <td>Bob</td>\n",
       "      <td>3</td>\n",
       "      <td>B</td>\n",
       "    </tr>\n",
       "  </tbody>\n",
       "</table>\n",
       "</div>"
      ],
      "text/plain": [
       "   student_id name  class_id grade\n",
       "2           2  Bob         1     B\n",
       "3           2  Bob         3     B"
      ]
     },
     "execution_count": 24,
     "metadata": {},
     "output_type": "execute_result"
    }
   ],
   "source": [
    "Student_Grades = pd.merge(Students, Grades, on='student_id')\n",
    "Student_Grades[Student_Grades['name']=='Bob' ]"
   ]
  },
  {
   "cell_type": "markdown",
   "metadata": {},
   "source": [
    "> TODO\n",
    "\n",
    "1. Use **merge** to join Student_Grades with the Classes table below, and find out what class Alice got an A in."
   ]
  },
  {
   "cell_type": "code",
   "execution_count": 33,
   "metadata": {},
   "outputs": [
    {
     "name": "stdout",
     "output_type": "stream",
     "text": [
      "['Math']\n"
     ]
    }
   ],
   "source": [
    "Classes = pd.DataFrame({'class_id': [1, 2, 3], 'title': ['Math', 'English', 'Spanish']})\n",
    "class_grades=pd.merge(Classes,Student_Grades,on=\"class_id\")\n",
    "alice_grades=class_grades[class_grades['name']=='Alice']\n",
    "print(alice_grades[alice_grades['grade']=='A']['title'].values)"
   ]
  },
  {
   "cell_type": "markdown",
   "metadata": {},
   "source": [
    "# Joining the Restaurant Data\n",
    "\n",
    "Now let's load the restaurant data that we will be analyzing:"
   ]
  },
  {
   "cell_type": "code",
   "execution_count": 34,
   "metadata": {},
   "outputs": [
    {
     "name": "stdout",
     "output_type": "stream",
     "text": [
      "<class 'pandas.core.frame.DataFrame'>\n",
      "RangeIndex: 858 entries, 0 to 857\n",
      "Data columns (total 4 columns):\n",
      " #   Column   Non-Null Count  Dtype \n",
      "---  ------   --------------  ----- \n",
      " 0   id       858 non-null    int64 \n",
      " 1   cluster  858 non-null    int64 \n",
      " 2   name     858 non-null    object\n",
      " 3   city     858 non-null    object\n",
      "dtypes: int64(2), object(2)\n",
      "memory usage: 26.9+ KB\n"
     ]
    }
   ],
   "source": [
    "resto = pd.read_csv('restaurants.csv')\n",
    "resto.info()"
   ]
  },
  {
   "cell_type": "code",
   "execution_count": 35,
   "metadata": {},
   "outputs": [
    {
     "data": {
      "text/html": [
       "<div>\n",
       "<style scoped>\n",
       "    .dataframe tbody tr th:only-of-type {\n",
       "        vertical-align: middle;\n",
       "    }\n",
       "\n",
       "    .dataframe tbody tr th {\n",
       "        vertical-align: top;\n",
       "    }\n",
       "\n",
       "    .dataframe thead th {\n",
       "        text-align: right;\n",
       "    }\n",
       "</style>\n",
       "<table border=\"1\" class=\"dataframe\">\n",
       "  <thead>\n",
       "    <tr style=\"text-align: right;\">\n",
       "      <th></th>\n",
       "      <th>id</th>\n",
       "      <th>cluster</th>\n",
       "      <th>name</th>\n",
       "      <th>city</th>\n",
       "    </tr>\n",
       "  </thead>\n",
       "  <tbody>\n",
       "    <tr>\n",
       "      <th>0</th>\n",
       "      <td>560</td>\n",
       "      <td>453</td>\n",
       "      <td>2223</td>\n",
       "      <td>san francisco</td>\n",
       "    </tr>\n",
       "    <tr>\n",
       "      <th>1</th>\n",
       "      <td>781</td>\n",
       "      <td>675</td>\n",
       "      <td>103 west</td>\n",
       "      <td>atlanta</td>\n",
       "    </tr>\n",
       "    <tr>\n",
       "      <th>2</th>\n",
       "      <td>279</td>\n",
       "      <td>172</td>\n",
       "      <td>20 mott</td>\n",
       "      <td>new york</td>\n",
       "    </tr>\n",
       "    <tr>\n",
       "      <th>3</th>\n",
       "      <td>43</td>\n",
       "      <td>23</td>\n",
       "      <td>21 club</td>\n",
       "      <td>new york</td>\n",
       "    </tr>\n",
       "    <tr>\n",
       "      <th>4</th>\n",
       "      <td>44</td>\n",
       "      <td>23</td>\n",
       "      <td>21 club</td>\n",
       "      <td>new york city</td>\n",
       "    </tr>\n",
       "    <tr>\n",
       "      <th>5</th>\n",
       "      <td>280</td>\n",
       "      <td>173</td>\n",
       "      <td>9 jones street</td>\n",
       "      <td>new york</td>\n",
       "    </tr>\n",
       "    <tr>\n",
       "      <th>6</th>\n",
       "      <td>486</td>\n",
       "      <td>379</td>\n",
       "      <td>abbey</td>\n",
       "      <td>atlanta</td>\n",
       "    </tr>\n",
       "    <tr>\n",
       "      <th>7</th>\n",
       "      <td>145</td>\n",
       "      <td>74</td>\n",
       "      <td>abruzzi</td>\n",
       "      <td>atlanta</td>\n",
       "    </tr>\n",
       "    <tr>\n",
       "      <th>8</th>\n",
       "      <td>146</td>\n",
       "      <td>74</td>\n",
       "      <td>abruzzi</td>\n",
       "      <td>atlanta</td>\n",
       "    </tr>\n",
       "    <tr>\n",
       "      <th>9</th>\n",
       "      <td>561</td>\n",
       "      <td>454</td>\n",
       "      <td>acquarello</td>\n",
       "      <td>san francisco</td>\n",
       "    </tr>\n",
       "  </tbody>\n",
       "</table>\n",
       "</div>"
      ],
      "text/plain": [
       "    id  cluster            name           city\n",
       "0  560      453            2223  san francisco\n",
       "1  781      675        103 west        atlanta\n",
       "2  279      172         20 mott       new york\n",
       "3   43       23         21 club       new york\n",
       "4   44       23         21 club  new york city\n",
       "5  280      173  9 jones street       new york\n",
       "6  486      379           abbey        atlanta\n",
       "7  145       74         abruzzi        atlanta\n",
       "8  146       74         abruzzi        atlanta\n",
       "9  561      454      acquarello  san francisco"
      ]
     },
     "execution_count": 35,
     "metadata": {},
     "output_type": "execute_result"
    }
   ],
   "source": [
    "resto[:10]"
   ]
  },
  {
   "cell_type": "markdown",
   "metadata": {},
   "source": [
    "The restaurant data has four columns.\n",
    "**id** is a unique ID field (unique for each row), **name** is the name of the restaurant, and **city** is where it is located.\n",
    "The fourth column, **cluster**, is a \"gold standard\" column.\n",
    "If two records have the same **cluster**, that means they are both about the same restaurant.\n",
    "\n",
    "The type of join we made above between Students and Grades, where we link records with equal values in a common column, is called an *equijoin*.\n",
    "Equijoins may join on more than one column, too (both value have to match).\n",
    "\n",
    "Let's use an equijoin to find pairs of duplicate restaurant records.\n",
    "We join the data to itself, on the **cluster** column.\n",
    "\n",
    "> Note: a join between a table and itself is called a *self-join*.\n",
    "\n",
    "The result (\"clusters\" below) has a lot of extra records in it.\n",
    "For example, since we're joining a table to itself, every record matches itself.\n",
    "We can filter on IDs to get rid of these extra join results.\n",
    "Note that when Pandas joins two tables that have columns with the same name, it appends \"_x\" and \"_y\" to the names to distinguish them."
   ]
  },
  {
   "cell_type": "code",
   "execution_count": 36,
   "metadata": {},
   "outputs": [
    {
     "data": {
      "text/html": [
       "<div>\n",
       "<style scoped>\n",
       "    .dataframe tbody tr th:only-of-type {\n",
       "        vertical-align: middle;\n",
       "    }\n",
       "\n",
       "    .dataframe tbody tr th {\n",
       "        vertical-align: top;\n",
       "    }\n",
       "\n",
       "    .dataframe thead th {\n",
       "        text-align: right;\n",
       "    }\n",
       "</style>\n",
       "<table border=\"1\" class=\"dataframe\">\n",
       "  <thead>\n",
       "    <tr style=\"text-align: right;\">\n",
       "      <th></th>\n",
       "      <th>id_x</th>\n",
       "      <th>cluster</th>\n",
       "      <th>name_x</th>\n",
       "      <th>city_x</th>\n",
       "      <th>id_y</th>\n",
       "      <th>name_y</th>\n",
       "      <th>city_y</th>\n",
       "    </tr>\n",
       "  </thead>\n",
       "  <tbody>\n",
       "    <tr>\n",
       "      <th>4</th>\n",
       "      <td>43</td>\n",
       "      <td>23</td>\n",
       "      <td>21 club</td>\n",
       "      <td>new york</td>\n",
       "      <td>44</td>\n",
       "      <td>21 club</td>\n",
       "      <td>new york city</td>\n",
       "    </tr>\n",
       "    <tr>\n",
       "      <th>5</th>\n",
       "      <td>44</td>\n",
       "      <td>23</td>\n",
       "      <td>21 club</td>\n",
       "      <td>new york city</td>\n",
       "      <td>43</td>\n",
       "      <td>21 club</td>\n",
       "      <td>new york</td>\n",
       "    </tr>\n",
       "    <tr>\n",
       "      <th>10</th>\n",
       "      <td>145</td>\n",
       "      <td>74</td>\n",
       "      <td>abruzzi</td>\n",
       "      <td>atlanta</td>\n",
       "      <td>146</td>\n",
       "      <td>abruzzi</td>\n",
       "      <td>atlanta</td>\n",
       "    </tr>\n",
       "    <tr>\n",
       "      <th>11</th>\n",
       "      <td>146</td>\n",
       "      <td>74</td>\n",
       "      <td>abruzzi</td>\n",
       "      <td>atlanta</td>\n",
       "      <td>145</td>\n",
       "      <td>abruzzi</td>\n",
       "      <td>atlanta</td>\n",
       "    </tr>\n",
       "    <tr>\n",
       "      <th>20</th>\n",
       "      <td>184</td>\n",
       "      <td>94</td>\n",
       "      <td>alain rondelli</td>\n",
       "      <td>san francisco</td>\n",
       "      <td>185</td>\n",
       "      <td>alain rondelli</td>\n",
       "      <td>san francisco</td>\n",
       "    </tr>\n",
       "    <tr>\n",
       "      <th>21</th>\n",
       "      <td>185</td>\n",
       "      <td>94</td>\n",
       "      <td>alain rondelli</td>\n",
       "      <td>san francisco</td>\n",
       "      <td>184</td>\n",
       "      <td>alain rondelli</td>\n",
       "      <td>san francisco</td>\n",
       "    </tr>\n",
       "    <tr>\n",
       "      <th>36</th>\n",
       "      <td>186</td>\n",
       "      <td>95</td>\n",
       "      <td>aqua</td>\n",
       "      <td>san francisco</td>\n",
       "      <td>187</td>\n",
       "      <td>aqua</td>\n",
       "      <td>san francisco</td>\n",
       "    </tr>\n",
       "    <tr>\n",
       "      <th>37</th>\n",
       "      <td>187</td>\n",
       "      <td>95</td>\n",
       "      <td>aqua</td>\n",
       "      <td>san francisco</td>\n",
       "      <td>186</td>\n",
       "      <td>aqua</td>\n",
       "      <td>san francisco</td>\n",
       "    </tr>\n",
       "    <tr>\n",
       "      <th>40</th>\n",
       "      <td>45</td>\n",
       "      <td>24</td>\n",
       "      <td>aquavit</td>\n",
       "      <td>new york</td>\n",
       "      <td>46</td>\n",
       "      <td>aquavit</td>\n",
       "      <td>new york city</td>\n",
       "    </tr>\n",
       "    <tr>\n",
       "      <th>41</th>\n",
       "      <td>46</td>\n",
       "      <td>24</td>\n",
       "      <td>aquavit</td>\n",
       "      <td>new york city</td>\n",
       "      <td>45</td>\n",
       "      <td>aquavit</td>\n",
       "      <td>new york</td>\n",
       "    </tr>\n",
       "  </tbody>\n",
       "</table>\n",
       "</div>"
      ],
      "text/plain": [
       "    id_x  cluster          name_x         city_x  id_y          name_y  \\\n",
       "4     43       23         21 club       new york    44         21 club   \n",
       "5     44       23         21 club  new york city    43         21 club   \n",
       "10   145       74         abruzzi        atlanta   146         abruzzi   \n",
       "11   146       74         abruzzi        atlanta   145         abruzzi   \n",
       "20   184       94  alain rondelli  san francisco   185  alain rondelli   \n",
       "21   185       94  alain rondelli  san francisco   184  alain rondelli   \n",
       "36   186       95            aqua  san francisco   187            aqua   \n",
       "37   187       95            aqua  san francisco   186            aqua   \n",
       "40    45       24         aquavit       new york    46         aquavit   \n",
       "41    46       24         aquavit  new york city    45         aquavit   \n",
       "\n",
       "           city_y  \n",
       "4   new york city  \n",
       "5        new york  \n",
       "10        atlanta  \n",
       "11        atlanta  \n",
       "20  san francisco  \n",
       "21  san francisco  \n",
       "36  san francisco  \n",
       "37  san francisco  \n",
       "40  new york city  \n",
       "41       new york  "
      ]
     },
     "execution_count": 36,
     "metadata": {},
     "output_type": "execute_result"
    }
   ],
   "source": [
    "clusters = pd.merge(resto, resto, on='cluster')\n",
    "clusters = clusters[clusters.id_x != clusters.id_y]\n",
    "clusters[:10]"
   ]
  },
  {
   "cell_type": "markdown",
   "metadata": {},
   "source": [
    "> TODO\n",
    "\n",
    "1. There are still extra records in *clusters*, above.  If records *A* and *B* match each other, then we will get both (*A*, *B*) and (*B*, *A*) in the output.\n",
    "Filter *clusters* so that we only keep one instance of each matching pair (HINT: use the IDs again).\n"
   ]
  },
  {
   "cell_type": "code",
   "execution_count": 39,
   "metadata": {},
   "outputs": [
    {
     "data": {
      "text/plain": [
       "106"
      ]
     },
     "execution_count": 39,
     "metadata": {},
     "output_type": "execute_result"
    }
   ],
   "source": [
    "clusters=clusters[clusters.id_x!=clusters.id_y]\n",
    "clusters_f=clusters.drop_duplicates(subset='cluster')\n",
    "len(clusters_f)"
   ]
  },
  {
   "cell_type": "markdown",
   "metadata": {},
   "source": [
    "> TODO: How many rows are there in your filtered table?"
   ]
  },
  {
   "cell_type": "markdown",
   "metadata": {},
   "source": [
    "## Optional: Fuzzy Joins\n",
    "\n",
    "Do this section if you have time. There are no lab responses for it however. \n",
    "\n",
    "Sometimes an equijoin isn't good enough.\n",
    "\n",
    "Say you want to match up records that are *almost* equal in a column.\n",
    "Or where a *function* of a columns is equal.\n",
    "Or maybe you don't care about equality: maybe \"less than\" or \"greater than or equal to\" is what you want.\n",
    "These cases call for a more general join than equijoin.\n",
    "\n",
    "We are going to make one of these joins between the restaurants data and itself.\n",
    "Specifically, we want to match up pairs of records whose restaurant names are *almost* the same.\n",
    "We call this a **fuzzy join**.\n",
    "\n",
    "To do a fuzzy join in Pandas we need to go about it in a few steps:\n",
    "\n",
    "1.  Join every record in the first table with every record in the second table. This is called the **Cartesian product** of the tables, and it's simply a list of all possible pairs of records.\n",
    "2.  Add a column to the Cartesian product that measures how \"similar\" each pair of records is. This is our **join criterion**.\n",
    "3.  Filter the Cartesian product based on when the join criterion is \"similar enough.\"\n",
    "\n",
    "> SQL Aside: In SQL, all of joins are supported in about the same way as equijoins are.\n",
    "> Essentially, you write a boolean expression on columns from the join-tables, and whenever that expression is true, you join the records together.\n",
    "> This is very similar to writing an **if** statement in python or Java.\n",
    "\n",
    "Let's do an example to get the hang of it."
   ]
  },
  {
   "cell_type": "markdown",
   "metadata": {},
   "source": [
    "### Edit Distance\n",
    "\n",
    "We're going to be using a string-similarity python library to compute \"edit distance\".\n",
    "\n",
    "To test that it works, the following should run OK:"
   ]
  },
  {
   "cell_type": "code",
   "execution_count": 41,
   "metadata": {},
   "outputs": [
    {
     "ename": "ModuleNotFoundError",
     "evalue": "No module named 'Levenshtein'",
     "output_type": "error",
     "traceback": [
      "\u001b[1;31m---------------------------------------------------------------------------\u001b[0m",
      "\u001b[1;31mModuleNotFoundError\u001b[0m                       Traceback (most recent call last)",
      "\u001b[1;32m<ipython-input-41-57f99dcc0ca4>\u001b[0m in \u001b[0;36m<module>\u001b[1;34m\u001b[0m\n\u001b[1;32m----> 1\u001b[1;33m \u001b[1;32mimport\u001b[0m \u001b[0mLevenshtein\u001b[0m \u001b[1;32mas\u001b[0m \u001b[0mL\u001b[0m\u001b[1;33m\u001b[0m\u001b[1;33m\u001b[0m\u001b[0m\n\u001b[0m",
      "\u001b[1;31mModuleNotFoundError\u001b[0m: No module named 'Levenshtein'"
     ]
    }
   ],
   "source": [
    "import Levenshtein as L"
   ]
  },
  {
   "cell_type": "markdown",
   "metadata": {},
   "source": [
    "#### 1. Join every record in the first table with every record in the second table.\n",
    "\n",
    "We use a \"dummy\" column to compute the Cartesian product of the data with itself.\n",
    "**dummy** takes the same value for every record, so we can do an equijoin and get back all pairs."
   ]
  },
  {
   "cell_type": "code",
   "execution_count": null,
   "metadata": {},
   "outputs": [],
   "source": [
    "resto['dummy'] = 0\n",
    "prod = pd.merge(resto, resto, on='dummy')\n",
    "\n",
    "# Clean up\n",
    "del prod['dummy']\n",
    "del resto['dummy']\n",
    "\n",
    "# Show that prod is the size of \"resto\" squared:\n",
    "print(len(prod), len(resto)**2)"
   ]
  },
  {
   "cell_type": "code",
   "execution_count": null,
   "metadata": {},
   "outputs": [],
   "source": [
    "prod[:10]"
   ]
  },
  {
   "cell_type": "markdown",
   "metadata": {},
   "source": [
    "* Like we did with *clusters* remove \"extra\" record pairs, e.g., ones with the same ID."
   ]
  },
  {
   "cell_type": "code",
   "execution_count": null,
   "metadata": {},
   "outputs": [],
   "source": []
  },
  {
   "cell_type": "markdown",
   "metadata": {},
   "source": [
    "#### 2. Add a column to the Cartesian product that measures how \"similar\" each pair of records is.\n",
    "\n",
    "In the homework assignment, we used a string similarity metric called *cosine similarity* which measured how many \"tokens\" two strings shared in common.\n",
    "Now, we're going to use an alternative measure of string similarity  called *edit-distance*.\n",
    "[Edit-distance](http://en.wikipedia.org/wiki/Edit_distance) counts the number of simple changes you have to make to a string to turn it into another string.\n",
    "\n",
    "Import the edit distance library:"
   ]
  },
  {
   "cell_type": "code",
   "execution_count": null,
   "metadata": {},
   "outputs": [],
   "source": [
    "import Levenshtein as L\n",
    "\n",
    "L.distance('Hello, World!', 'Hallo, World!')"
   ]
  },
  {
   "cell_type": "markdown",
   "metadata": {},
   "source": [
    "Next, we add a computed column, named **distance**, that measures the edit distance between the names of two restaurants:"
   ]
  },
  {
   "cell_type": "code",
   "execution_count": null,
   "metadata": {},
   "outputs": [],
   "source": [
    "# This takes a minute or two to run\n",
    "prod['distance'] = prod.apply(lambda r: L.distance(r['name_x'], r['name_y']), axis=1)"
   ]
  },
  {
   "cell_type": "markdown",
   "metadata": {},
   "source": [
    "#### 3.  Filter the Cartesian product based on when the join criterion is \"similar enough.\"\n",
    "\n",
    "Now we complete the join by filtering out pairs or records that aren't equal enough for our liking.\n",
    "As in the first homework assignment, we can only figure out how similar is \"similar enough\" by trying out some different options.\n",
    "Let's try maximum edit-distance from 0 to 10 and compute precision and recall."
   ]
  },
  {
   "cell_type": "code",
   "execution_count": null,
   "metadata": {},
   "outputs": [],
   "source": [
    "%matplotlib inline\n",
    "import pylab\n",
    "\n",
    "def accuracy(max_distance):\n",
    "    similar = prod[prod.distance < max_distance]\n",
    "    correct = float(sum(similar.cluster_x == similar.cluster_y))\n",
    "    precision = correct / len(similar)\n",
    "    recall = correct / len(clusters)\n",
    "    return (precision, recall)\n",
    "\n",
    "thresholds = range(1, 11)\n",
    "p = []\n",
    "r = []\n",
    "\n",
    "for t in thresholds:\n",
    "    acc = accuracy(t)\n",
    "    p.append(acc[0])\n",
    "    r.append(acc[1])\n",
    "\n",
    "pylab.plot(thresholds, p)\n",
    "pylab.plot(thresholds, r)\n",
    "pylab.legend(['precision', 'recall'], loc='upper left')"
   ]
  },
  {
   "cell_type": "markdown",
   "metadata": {},
   "source": [
    "_1._ Another common way to visualize the tradeoff between precision and recall is to plot them directly against each other.\n",
    "Create a scatterplot with precision on one axis and recall on the other.\n",
    "Where are \"good\" points on the plot, and where are \"bad\" ones.\n"
   ]
  }
 ],
 "metadata": {
  "kernelspec": {
   "display_name": "Python 3",
   "language": "python",
   "name": "python3"
  },
  "language_info": {
   "codemirror_mode": {
    "name": "ipython",
    "version": 3
   },
   "file_extension": ".py",
   "mimetype": "text/x-python",
   "name": "python",
   "nbconvert_exporter": "python",
   "pygments_lexer": "ipython3",
   "version": "3.7.6"
  }
 },
 "nbformat": 4,
 "nbformat_minor": 1
}
